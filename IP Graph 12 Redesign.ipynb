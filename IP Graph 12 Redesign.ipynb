{
 "cells": [
  {
   "cell_type": "code",
   "execution_count": 4,
   "metadata": {
    "collapsed": true
   },
   "outputs": [],
   "source": [
    "import numpy as np\n",
    "import matplotlib.pyplot as plt\n",
    "import pandas as pd\n",
    "import seaborn as sns"
   ]
  },
  {
   "cell_type": "code",
   "execution_count": 7,
   "metadata": {
    "collapsed": false
   },
   "outputs": [
    {
     "data": {
      "text/html": [
       "<div>\n",
       "<style>\n",
       "    .dataframe thead tr:only-child th {\n",
       "        text-align: right;\n",
       "    }\n",
       "\n",
       "    .dataframe thead th {\n",
       "        text-align: left;\n",
       "    }\n",
       "\n",
       "    .dataframe tbody tr th {\n",
       "        vertical-align: top;\n",
       "    }\n",
       "</style>\n",
       "<table border=\"1\" class=\"dataframe\">\n",
       "  <thead>\n",
       "    <tr style=\"text-align: right;\">\n",
       "      <th></th>\n",
       "      <th>Unnamed: 0</th>\n",
       "      <th>drug_poison</th>\n",
       "      <th>gas_poison</th>\n",
       "      <th>total_poison</th>\n",
       "      <th>firearm</th>\n",
       "      <th>cut</th>\n",
       "      <th>suffocation</th>\n",
       "    </tr>\n",
       "  </thead>\n",
       "  <tbody>\n",
       "    <tr>\n",
       "      <th>0</th>\n",
       "      <td>Fatal</td>\n",
       "      <td>1001</td>\n",
       "      <td>461</td>\n",
       "      <td>1462</td>\n",
       "      <td>4365</td>\n",
       "      <td>158</td>\n",
       "      <td>1405</td>\n",
       "    </tr>\n",
       "    <tr>\n",
       "      <th>1</th>\n",
       "      <td>Attempted</td>\n",
       "      <td>64657</td>\n",
       "      <td>648</td>\n",
       "      <td>65305</td>\n",
       "      <td>929</td>\n",
       "      <td>12949</td>\n",
       "      <td>888</td>\n",
       "    </tr>\n",
       "  </tbody>\n",
       "</table>\n",
       "</div>"
      ],
      "text/plain": [
       "  Unnamed: 0  drug_poison  gas_poison  total_poison  firearm    cut  \\\n",
       "0      Fatal         1001         461          1462     4365    158   \n",
       "1  Attempted        64657         648         65305      929  12949   \n",
       "\n",
       "   suffocation  \n",
       "0         1405  \n",
       "1          888  "
      ]
     },
     "execution_count": 7,
     "metadata": {},
     "output_type": "execute_result"
    }
   ],
   "source": [
    "suicides = pd.read_csv(\"suicide_methods.csv\")\n",
    "suicides"
   ]
  },
  {
   "cell_type": "code",
   "execution_count": 8,
   "metadata": {
    "collapsed": true
   },
   "outputs": [],
   "source": [
    "labels = ['fatal', 'attempted']\n",
    "\n",
    "poison = [1462, 65305]\n",
    "\n",
    "firearm = [4365, 929]\n",
    "\n",
    "cut = [158, 12949]\n",
    "\n",
    "suff = [1405, 888]\n"
   ]
  },
  {
   "cell_type": "code",
   "execution_count": 15,
   "metadata": {
    "collapsed": true
   },
   "outputs": [],
   "source": [
    "plt.pie(firearm, labels=labels, autopct='%1.1f%%', shadow=False)\n",
    "\n",
    "plt.title(\"Firearm Suicides\")\n",
    "\n",
    "plt.show()"
   ]
  },
  {
   "cell_type": "code",
   "execution_count": 14,
   "metadata": {
    "collapsed": true
   },
   "outputs": [],
   "source": [
    "plt.pie(poison, labels=labels, autopct='%1.1f%%', shadow=False)\n",
    "\n",
    "plt.title(\"Poison Suicides\")\n",
    "\n",
    "plt.show()"
   ]
  },
  {
   "cell_type": "code",
   "execution_count": 12,
   "metadata": {
    "collapsed": true
   },
   "outputs": [],
   "source": [
    "plt.pie(cut, labels=labels, autopct='%1.1f%%', shadow=False)\n",
    "\n",
    "plt.title(\"Cut Suicides\")\n",
    "\n",
    "plt.show()"
   ]
  },
  {
   "cell_type": "code",
   "execution_count": 13,
   "metadata": {
    "collapsed": true
   },
   "outputs": [],
   "source": [
    "plt.pie(poison, labels=labels, autopct='%1.1f%%', shadow=False)\n",
    "\n",
    "plt.title(\"Suffocation Suicides\")\n",
    "\n",
    "plt.show()"
   ]
  }
 ],
 "metadata": {
  "kernelspec": {
   "display_name": "Python 2",
   "language": "python",
   "name": "python2"
  },
  "language_info": {
   "codemirror_mode": {
    "name": "ipython",
    "version": 2
   },
   "file_extension": ".py",
   "mimetype": "text/x-python",
   "name": "python",
   "nbconvert_exporter": "python",
   "pygments_lexer": "ipython2",
   "version": "2.7.11"
  }
 },
 "nbformat": 4,
 "nbformat_minor": 0
}
